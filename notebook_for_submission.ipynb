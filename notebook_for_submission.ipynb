{
 "cells": [
  {
   "cell_type": "markdown",
   "id": "d166c9cd",
   "metadata": {},
   "source": [
    "# Challenge: Quantum Natural Language Processing with lambeq"
   ]
  },
  {
   "cell_type": "markdown",
   "id": "ca565b41",
   "metadata": {},
   "source": [
    "## Womanium Quantum Hackathon 2022"
   ]
  },
  {
   "cell_type": "markdown",
   "id": "3a27fac3",
   "metadata": {},
   "source": [
    "## 0. Basic Information"
   ]
  },
  {
   "cell_type": "markdown",
   "id": "db2e7be9",
   "metadata": {},
   "source": [
    "- **Team Name**: QThinkers\n",
    "- **Member & Contributions**:\n",
    "    - **Henry Zhiyu Ma (presenter)**: Coding & Writing this notebook (95%)\n",
    "    - Dimple Mevada: Discussion on algorithms (5%)\n",
    "    - Isabel Huh: None (0%)\n",
    "    - Constantin Drabo: None (0%)\\\n",
    "- **Contact Information**:\n",
    "    - Mr. Henry Zhiyu Ma: [Email](mailto:henry.zhiyu.ma@gmail.com), [GitHub](https://github.com/YujiUgaki), [LinkedIn](https://www.linkedin.com/in/henry-z-ma/)"
   ]
  },
  {
   "cell_type": "markdown",
   "id": "ce99fe29",
   "metadata": {},
   "source": [
    "## 1. Summary"
   ]
  },
  {
   "cell_type": "markdown",
   "id": "9d38cb42",
   "metadata": {},
   "source": [
    "This project aims at implementing **quantum algorithms** for **natural language processing (NLP)**, specifically, to determine whether a pair of short sentences belong to the same topic.\n",
    "\n",
    "Although a similar algorithm has been developed [1](https://cqcl.github.io/lambeq/tutorials/trainer_quantum.html), it only deals with one sentence each time. Therefore, we followed its quantum training pipeline while customizing the original `NumpyModel` to adapt it to sentence pair processing. We rewrite the `forward` method, adding the following features to it:\n",
    "  - accept **two lists** of circuits as input\n",
    "  - calculate the **cosine value** [2](https://arxiv.org/abs/1910.09129) of the feature vectors for each sentence in a pair\n",
    "With this custom method, we have successfully trained the model.\n",
    "\n",
    "Future improvements:\n",
    "  - New reading and parsing methods\n",
    "  - New similarity metrics for better performance\n",
    "  - Creating circuits using different prameters of ansatz\n",
    "  - Running these codes on AerBackend or even a real quantum computer"
   ]
  },
  {
   "cell_type": "markdown",
   "id": "9a5256bf",
   "metadata": {},
   "source": [
    "## 2. Codes"
   ]
  },
  {
   "cell_type": "markdown",
   "id": "30e613ac",
   "metadata": {},
   "source": [
    "### Step 0: preparation"
   ]
  },
  {
   "cell_type": "markdown",
   "id": "aa77641c",
   "metadata": {},
   "source": [
    "Preparing & importing packages"
   ]
  },
  {
   "cell_type": "code",
   "execution_count": null,
   "id": "18e73ea6-e277-4502-9b6d-32c07f09ccf7",
   "metadata": {},
   "outputs": [],
   "source": [
    "!pip install sklearn"
   ]
  },
  {
   "cell_type": "code",
   "execution_count": null,
   "id": "fe5040d7-595e-4398-9d90-5238379ca38e",
   "metadata": {
    "tags": []
   },
   "outputs": [],
   "source": [
    "!pip install lambeq"
   ]
  },
  {
   "cell_type": "code",
   "execution_count": 3,
   "id": "d0fd6f85-5418-4125-a458-c07eaf6d9775",
   "metadata": {},
   "outputs": [
    {
     "name": "stderr",
     "output_type": "stream",
     "text": [
      "/home/jovyan/.qbraid/environments/womanium_go14xk/pyenv/lib/python3.9/site-packages/lambeq/text2diagram/ccg_parser.py:24: TqdmExperimentalWarning: Using `tqdm.autonotebook.tqdm` in notebook mode. Use `tqdm.tqdm` instead to force console mode (e.g. in jupyter console)\n",
      "  from tqdm.autonotebook import tqdm\n"
     ]
    }
   ],
   "source": [
    "import os\n",
    "import sklearn\n",
    "import warnings\n",
    "import numpy as np\n",
    "import matplotlib.pyplot as plt\n",
    "from sklearn.model_selection import train_test_split\n",
    "from lambeq import BobcatParser, AtomicType, IQPAnsatz, remove_cups, NumpyModel, QuantumTrainer, SPSAOptimizer, Dataset\n",
    "\n",
    "warnings.filterwarnings('ignore')\n"
   ]
  },
  {
   "cell_type": "markdown",
   "id": "e3e32c71",
   "metadata": {},
   "source": [
    "Defining parameter for training"
   ]
  },
  {
   "cell_type": "code",
   "execution_count": 4,
   "id": "01240713-b6b2-4b78-9faf-4f9f80c9e327",
   "metadata": {
    "tags": []
   },
   "outputs": [],
   "source": [
    "BATCH_SIZE = 30 # batch size\n",
    "EPOCHS = 1000 # number of iterations\n",
    "SEED = 2\n",
    "eps = 1e-6 # a small number to get rid of 'NaN' value in 'log' function of binary cross-entropy loss"
   ]
  },
  {
   "cell_type": "markdown",
   "id": "255abd34",
   "metadata": {},
   "source": [
    "### Step 1: importing data"
   ]
  },
  {
   "cell_type": "markdown",
   "id": "85b7a7f9",
   "metadata": {},
   "source": [
    "Importing the dataset"
   ]
  },
  {
   "cell_type": "code",
   "execution_count": 5,
   "id": "b8e9520c-4238-482b-9a9f-96ff18d8892c",
   "metadata": {},
   "outputs": [],
   "source": [
    "def read_data(filename):\n",
    "    labels, sentences = [], []\n",
    "    with open(filename) as f:\n",
    "        for line in f:\n",
    "            \n",
    "            # extract & append labels\n",
    "            t = float(line[-2])\n",
    "            labels.append(t)\n",
    "            \n",
    "            # extract and sentences (Sentence 0 & 1 as a whole)\n",
    "            sentences.append(line[:-4])\n",
    "            \n",
    "    return labels, sentences\n",
    "\n",
    "# input data\n",
    "# MC1.txt is in the same folder as this jupyter notebook\n",
    "train_test_labels, train_test_data = read_data('./MC1.txt')"
   ]
  },
  {
   "cell_type": "markdown",
   "id": "d313a493",
   "metadata": {},
   "source": [
    "Randomly splitting the whole dataset into **train set (0.8)** and **test set (0.2)**, using `sklearn.model_selection import train_test_split`"
   ]
  },
  {
   "cell_type": "code",
   "execution_count": 6,
   "id": "ffb074b4",
   "metadata": {},
   "outputs": [],
   "source": [
    "train_data, test_data, train_labels, test_labels = train_test_split(train_test_data, train_test_labels, test_size=0.2, random_state=66)"
   ]
  },
  {
   "cell_type": "markdown",
   "id": "f8e11f7e",
   "metadata": {},
   "source": [
    "Splitting the 2 sentences in each line apart"
   ]
  },
  {
   "cell_type": "code",
   "execution_count": 7,
   "id": "2ab39fc1",
   "metadata": {},
   "outputs": [],
   "source": [
    "def split_data(data):\n",
    "    data0, data1 = [], []\n",
    "    for sentence in data:\n",
    "        data0.append(sentence.split(', ')[0])\n",
    "        data1.append(sentence.split(', ')[1])\n",
    "    return data0, data1\n",
    "\n",
    "train_data0, train_data1 = split_data(train_data)\n",
    "test_data0, test_data1 = split_data(test_data)"
   ]
  },
  {
   "cell_type": "markdown",
   "id": "83843c09",
   "metadata": {},
   "source": [
    "### Step 2: creating, filtering, and simplifying diagrams"
   ]
  },
  {
   "cell_type": "markdown",
   "id": "a6884be7",
   "metadata": {},
   "source": [
    "**Parsing** sentences with `BobcatParser`"
   ]
  },
  {
   "cell_type": "code",
   "execution_count": 8,
   "id": "54f5e59e-f1d9-49b0-b0e7-f5174258969d",
   "metadata": {
    "scrolled": true
   },
   "outputs": [],
   "source": [
    "parser = BobcatParser(root_cats=('NP', 'N'), verbose='text')"
   ]
  },
  {
   "cell_type": "markdown",
   "id": "04f22dfd",
   "metadata": {},
   "source": [
    "Converting each sentence to **diagrams**"
   ]
  },
  {
   "cell_type": "code",
   "execution_count": 9,
   "id": "1eef4350",
   "metadata": {},
   "outputs": [
    {
     "name": "stderr",
     "output_type": "stream",
     "text": [
      "Tagging sentences.\n",
      "Parsing tagged sentences.\n",
      "Turning parse trees to diagrams.\n",
      "Tagging sentences.\n",
      "Parsing tagged sentences.\n",
      "Turning parse trees to diagrams.\n",
      "Tagging sentences.\n",
      "Parsing tagged sentences.\n",
      "Turning parse trees to diagrams.\n",
      "Tagging sentences.\n",
      "Parsing tagged sentences.\n",
      "Turning parse trees to diagrams.\n"
     ]
    }
   ],
   "source": [
    "raw_train_diagrams0 = parser.sentences2diagrams(train_data0, suppress_exceptions=True) # the 0th sentences in train set\n",
    "raw_train_diagrams1 = parser.sentences2diagrams(train_data1, suppress_exceptions=True) # the 1st sentences in train set\n",
    "raw_test_diagrams0 = parser.sentences2diagrams(test_data0, suppress_exceptions=True) # the 0th sentences in test set\n",
    "raw_test_diagrams1 = parser.sentences2diagrams(test_data1, suppress_exceptions=True) # the 1st sentences in test set"
   ]
  },
  {
   "cell_type": "markdown",
   "id": "185aff8b",
   "metadata": {},
   "source": [
    "Transforming diagrams to **normal forms**, simultaneously eliminating empty diagrams"
   ]
  },
  {
   "cell_type": "code",
   "execution_count": 10,
   "id": "90cc51b2-3c3f-4127-a207-3165a9270689",
   "metadata": {},
   "outputs": [],
   "source": [
    "train_diagrams0 = [\n",
    "    diagram.normal_form()\n",
    "    for diagram in raw_train_diagrams0 if diagram is not None\n",
    "]\n",
    "train_diagrams1 = [\n",
    "    diagram.normal_form()\n",
    "    for diagram in raw_train_diagrams1 if diagram is not None\n",
    "]\n",
    "test_diagrams0 = [\n",
    "    diagram.normal_form()\n",
    "    for diagram in raw_test_diagrams0 if diagram is not None\n",
    "]\n",
    "test_diagrams1 = [\n",
    "    diagram.normal_form()\n",
    "    for diagram in raw_test_diagrams1 if diagram is not None\n",
    "]"
   ]
  },
  {
   "cell_type": "markdown",
   "id": "d14e4e1a",
   "metadata": {},
   "source": [
    "Deleting the labels corresponsing to empty diagrams"
   ]
  },
  {
   "cell_type": "code",
   "execution_count": 11,
   "id": "d251cd88",
   "metadata": {},
   "outputs": [],
   "source": [
    "train_labels = [\n",
    "    label for (diagram0, diagram1, label)\n",
    "    in zip(raw_train_diagrams0, raw_train_diagrams1, train_labels)\n",
    "    if diagram0 is not None and diagram1 is not None]\n",
    "test_labels = [\n",
    "    label for (diagram0, diagram1, label)\n",
    "    in zip(raw_test_diagrams0, raw_test_diagrams1, test_labels)\n",
    "    if diagram0 is not None and diagram1 is not None]"
   ]
  },
  {
   "cell_type": "markdown",
   "id": "c1182b02",
   "metadata": {},
   "source": [
    "### Step 3: creating circuits"
   ]
  },
  {
   "cell_type": "markdown",
   "id": "07c5ef2b",
   "metadata": {},
   "source": [
    "Defining **ansatz**"
   ]
  },
  {
   "cell_type": "code",
   "execution_count": 12,
   "id": "7b9d17c0-1f2b-4bae-99c0-add79312ff6a",
   "metadata": {},
   "outputs": [],
   "source": [
    "ansatz = IQPAnsatz({AtomicType.NOUN: 1, AtomicType.SENTENCE: 0},\n",
    "                   n_layers=1, n_single_qubit_params=3)"
   ]
  },
  {
   "cell_type": "markdown",
   "id": "174f1d9c",
   "metadata": {},
   "source": [
    "**Removing the cups** of the diagrams to boost efficiency."
   ]
  },
  {
   "cell_type": "markdown",
   "id": "4b3ffb33",
   "metadata": {},
   "source": [
    "Converting diagrams to **circuits**."
   ]
  },
  {
   "cell_type": "code",
   "execution_count": 13,
   "id": "51427bfb",
   "metadata": {},
   "outputs": [],
   "source": [
    "train_circuits0 = [ansatz(remove_cups(diagram)) for diagram in train_diagrams0]\n",
    "train_circuits1 = [ansatz(remove_cups(diagram)) for diagram in train_diagrams1]\n",
    "test_circuits0 =  [ansatz(remove_cups(diagram))  for diagram in test_diagrams0]\n",
    "test_circuits1 =  [ansatz(remove_cups(diagram))  for diagram in test_diagrams1]"
   ]
  },
  {
   "cell_type": "markdown",
   "id": "f1bcfd62",
   "metadata": {},
   "source": [
    "### Step 4: defining custom model and evaluation metrics"
   ]
  },
  {
   "cell_type": "markdown",
   "id": "b0d1ca8c",
   "metadata": {},
   "source": [
    "Defining a custom **subclass** `MyCustomModel` from `NumpyModel` with a modified `forward` method"
   ]
  },
  {
   "cell_type": "markdown",
   "id": "49091d7a",
   "metadata": {},
   "source": [
    "The `forward` method evaluates the **cosine** value of the **feature vectors** (outputs) of each sentence in a pair"
   ]
  },
  {
   "cell_type": "code",
   "execution_count": 14,
   "id": "992bca98",
   "metadata": {},
   "outputs": [],
   "source": [
    "class MyCustomModel(NumpyModel):\n",
    "    def _init_(self):\n",
    "        super()._init_()\n",
    "    \n",
    "    def forward(self,input):\n",
    "        \"\"\"This forward pass method has been customized for 2-sentence comparison\n",
    "        \n",
    "        Parameters\n",
    "        ----------\n",
    "        input : 2-dimensional list of :py:class:`Circuits <discopy.quantum.circuit.Circuit>` object\n",
    "                I.e., a list of 2-circuit pairs of sentences\n",
    "                The 0th dimension = BATCH_SIZE\n",
    "                The 1st dimension = 2\n",
    "        \n",
    "        Returns\n",
    "        -------\n",
    "        numpy.ndarray\n",
    "            Array containing model's prediction (y_hat)\n",
    "            \n",
    "        \"\"\"\n",
    "        \n",
    "        # getting a 1-dimensional list of circuits for sentences0 & sentences1 from input\n",
    "        # since self.get_diagram_output(x) only accepts 1-dimensional list x\n",
    "        input0 = [input[i][0] for i in range(len(input))]\n",
    "        input1 = [input[i][1] for i in range(len(input))]\n",
    "        \n",
    "        # evaluating feature vectors for sentences0 & sentences1\n",
    "        preds0 = self.get_diagram_output(input0) # a list of 2-dimensional vectors [_,_]\n",
    "        preds1 = self.get_diagram_output(input1)\n",
    "        if len(preds0) != len(preds1):\n",
    "            raise ValueError('Lengths of `preds0` and `preds1` differ.')\n",
    "        \n",
    "        # evaluating the cosine of the angle between the feature vectors for sentences0 & sentences1\n",
    "        # supposing that cosine value measures similarity\n",
    "        # ref: arXiv:1910.09129\n",
    "        def vcos(v0, v1):\n",
    "            return np.divide(np.dot(v0, v1), np.sqrt(np.multiply(np.dot(v0,v0), np.dot(v1,v1))))\n",
    "        \n",
    "        # list of cosine values for each pair of sentences\n",
    "        coss = [vcos(preds0[i], preds1[i]) for i in range(len(preds0))]\n",
    "        \n",
    "        # converting cosine list to array\n",
    "        preds = np.array(coss)\n",
    "        return preds\n",
    "    \n",
    "    "
   ]
  },
  {
   "cell_type": "markdown",
   "id": "252678d4",
   "metadata": {},
   "source": [
    "Building model: `model.symbols` is generated from all words present in all sentences."
   ]
  },
  {
   "cell_type": "code",
   "execution_count": 15,
   "id": "24feed5b",
   "metadata": {},
   "outputs": [],
   "source": [
    "all_circuits = train_circuits0 + test_circuits0 + train_circuits1 + test_circuits1\n",
    "\n",
    "# use jit to accelerate training\n",
    "model = MyCustomModel.from_diagrams(all_circuits, use_jit=True)"
   ]
  },
  {
   "cell_type": "markdown",
   "id": "330c5bf9",
   "metadata": {},
   "source": [
    "Defining **loss** and **accuracy** function"
   ]
  },
  {
   "cell_type": "code",
   "execution_count": 16,
   "id": "b3b0030c",
   "metadata": {},
   "outputs": [],
   "source": [
    "loss = lambda y_hat, y: -np.sum(y * np.log(y_hat + eps)) / len(y)  # binary cross-entropy loss\n",
    "\n",
    "acc = lambda y_hat, y: np.sum(np.round(y_hat) == y) / len(y) / 2  # half due to double-counting\n",
    "etest_metrics = {\"acc\": acc}"
   ]
  },
  {
   "cell_type": "markdown",
   "id": "6757abcf",
   "metadata": {},
   "source": [
    "### Step 5: initializing trainer and training"
   ]
  },
  {
   "cell_type": "markdown",
   "id": "9b80f49d",
   "metadata": {},
   "source": [
    "Setting up **trainer**"
   ]
  },
  {
   "cell_type": "code",
   "execution_count": 17,
   "id": "d9687a58",
   "metadata": {},
   "outputs": [],
   "source": [
    "trainer = QuantumTrainer(\n",
    "    model,\n",
    "    loss_function=loss,\n",
    "    epochs=EPOCHS,\n",
    "    optimizer=SPSAOptimizer,\n",
    "    optim_hyperparams={'a': 0.05, 'c': 0.06, 'A':0.01*EPOCHS},\n",
    "    evaluate_functions=etest_metrics,\n",
    "    evaluate_on_train=True,\n",
    "    verbose = 'text',\n",
    "    seed=SEED\n",
    ")"
   ]
  },
  {
   "cell_type": "markdown",
   "id": "8b07c3cb",
   "metadata": {},
   "source": [
    "Obtaining **datasets**"
   ]
  },
  {
   "cell_type": "code",
   "execution_count": 18,
   "id": "4bed49a5",
   "metadata": {},
   "outputs": [],
   "source": [
    "# list of circuit-pairs\n",
    "train_circuits = [list(item) for item in zip(train_circuits0, train_circuits1)]\n",
    "test_circuits = [list(item) for item in zip(test_circuits0, test_circuits1)]\n",
    "\n",
    "train_dataset = Dataset(\n",
    "            train_circuits,\n",
    "            train_labels,\n",
    "            batch_size=BATCH_SIZE)\n",
    "\n",
    "test_dataset = Dataset(test_circuits, test_labels, shuffle=False)"
   ]
  },
  {
   "cell_type": "markdown",
   "id": "81abbcd0",
   "metadata": {},
   "source": [
    "**Fitting**"
   ]
  },
  {
   "cell_type": "code",
   "execution_count": 19,
   "id": "efe0d26a",
   "metadata": {},
   "outputs": [
    {
     "name": "stderr",
     "output_type": "stream",
     "text": [
      "WARNING:absl:No GPU/TPU found, falling back to CPU. (Set TF_CPP_MIN_LOG_LEVEL=0 and rerun for more info.)\n",
      "Epoch 1:     train/loss: 0.0707   valid/loss: 0.0907   train/acc: 0.2562   valid/acc: 0.3250\n",
      "Epoch 100:   train/loss: 0.0236   valid/loss: 0.0333   train/acc: 0.2562   valid/acc: 0.3000\n",
      "Epoch 200:   train/loss: 0.0201   valid/loss: 0.0292   train/acc: 0.2562   valid/acc: 0.3000\n",
      "Epoch 300:   train/loss: 0.0183   valid/loss: 0.0270   train/acc: 0.2562   valid/acc: 0.3000\n",
      "Epoch 400:   train/loss: 0.0173   valid/loss: 0.0260   train/acc: 0.2562   valid/acc: 0.3000\n",
      "Epoch 500:   train/loss: 0.0155   valid/loss: 0.0248   train/acc: 0.2562   valid/acc: 0.3000\n",
      "Epoch 600:   train/loss: 0.0136   valid/loss: 0.0242   train/acc: 0.2562   valid/acc: 0.3000\n",
      "Epoch 700:   train/loss: 0.0144   valid/loss: 0.0234   train/acc: 0.2562   valid/acc: 0.3000\n",
      "Epoch 800:   train/loss: 0.0132   valid/loss: 0.0228   train/acc: 0.2562   valid/acc: 0.3000\n",
      "Epoch 900:   train/loss: 0.0150   valid/loss: 0.0218   train/acc: 0.2562   valid/acc: 0.3000\n",
      "Epoch 1000:  train/loss: 0.0130   valid/loss: 0.0210   train/acc: 0.2562   valid/acc: 0.3000\n",
      "\n",
      "Training completed!\n"
     ]
    }
   ],
   "source": [
    "trainer.fit(train_dataset, test_dataset, evaluation_step=1, logging_step=100)"
   ]
  },
  {
   "cell_type": "markdown",
   "id": "7942bae3",
   "metadata": {},
   "source": [
    "Plotting fitted results"
   ]
  },
  {
   "cell_type": "code",
   "execution_count": 21,
   "id": "ab896216",
   "metadata": {},
   "outputs": [
    {
     "name": "stdout",
     "output_type": "stream",
     "text": [
      "Validation accuracy: 0.3\n"
     ]
    },
    {
     "data": {
      "image/png": "[encoded data removed]",
      "text/plain": [
       "<Figure size 720x432 with 4 Axes>"
      ]
     },
     "metadata": {
      "needs_background": "light"
     },
     "output_type": "display_data"
    }
   ],
   "source": [
    "fig, ((ax_tl, ax_tr), (ax_bl, ax_br)) = plt.subplots(2, 2, sharex=True, sharey='row', figsize=(10, 6))\n",
    "ax_tl.set_title('Training set')\n",
    "ax_tr.set_title('Development set')\n",
    "ax_bl.set_xlabel('Iterations')\n",
    "ax_br.set_xlabel('Iterations')\n",
    "ax_bl.set_ylabel('Accuracy')\n",
    "ax_tl.set_ylabel('Loss')\n",
    "\n",
    "colours = iter(plt.rcParams['axes.prop_cycle'].by_key()['color'])\n",
    "ax_tl.plot(trainer.train_epoch_costs[::10], color=next(colours))\n",
    "ax_bl.plot(trainer.train_results['acc'][::10], color=next(colours))\n",
    "ax_tr.plot(trainer.val_costs[::10], color=next(colours))\n",
    "ax_br.plot(trainer.val_results['acc'][::10], color=next(colours))\n",
    "\n",
    "# print test accuracy\n",
    "test_acc = acc(model(test_circuits), test_labels)\n",
    "print('Validation accuracy:', test_acc.item())"
   ]
  },
  {
   "cell_type": "code",
   "execution_count": null,
   "id": "35fc8193-b22a-46d6-b291-4127e39cc13e",
   "metadata": {},
   "outputs": [],
   "source": []
  }
 ],
 "metadata": {
  "kernelspec": {
   "display_name": "Python 3 [Womanium]",
   "language": "python",
   "name": "python3_womanium_go14xk"
  },
  "language_info": {
   "codemirror_mode": {
    "name": "ipython",
    "version": 3
   },
   "file_extension": ".py",
   "mimetype": "text/x-python",
   "name": "python",
   "nbconvert_exporter": "python",
   "pygments_lexer": "ipython3",
   "version": "3.9.10"
  }
 },
 "nbformat": 4,
 "nbformat_minor": 5
}
